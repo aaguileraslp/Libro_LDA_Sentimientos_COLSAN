{
 "cells": [
  {
   "cell_type": "code",
   "execution_count": 1,
   "id": "d615511e-0922-49f7-8c0f-40c7e727f944",
   "metadata": {},
   "outputs": [
    {
     "name": "stdout",
     "output_type": "stream",
     "text": [
      "Bienvenido a la calculadora simple\n",
      "Opciones disponibles:\n",
      "1. Sumar\n",
      "2. Restar\n",
      "3. Multiplicar\n",
      "4. Dividir\n"
     ]
    },
    {
     "name": "stdin",
     "output_type": "stream",
     "text": [
      "Selecciona una opción (1/2/3/4):  2\n",
      "Introduce el primer número:  32\n",
      "Introduce el segundo número:  5\n"
     ]
    },
    {
     "name": "stdout",
     "output_type": "stream",
     "text": [
      "Resultado: 32.0 - 5.0 = 27.0\n"
     ]
    }
   ],
   "source": [
    "# Calculadora simple en Python\n",
    "\n",
    "def sumar(a, b):\n",
    "    \"\"\"Función para sumar dos números.\"\"\"\n",
    "    return a + b\n",
    "\n",
    "def restar(a, b):\n",
    "    \"\"\"Función para restar dos números.\"\"\"\n",
    "    return a - b\n",
    "\n",
    "def multiplicar(a, b):\n",
    "    \"\"\"Función para multiplicar dos números.\"\"\"\n",
    "    return a * b\n",
    "\n",
    "def dividir(a, b):\n",
    "    \"\"\"Función para dividir dos números. Valida que el divisor no sea cero.\"\"\"\n",
    "    if b != 0:\n",
    "        return a / b\n",
    "    else:\n",
    "        return \"Error: División entre cero no permitida.\"\n",
    "\n",
    "# Función principal\n",
    "def calculadora():\n",
    "    print(\"Bienvenido a la calculadora simple\")\n",
    "    print(\"Opciones disponibles:\")\n",
    "    print(\"1. Sumar\")\n",
    "    print(\"2. Restar\")\n",
    "    print(\"3. Multiplicar\")\n",
    "    print(\"4. Dividir\")\n",
    "\n",
    "    # Solicitar al usuario que seleccione una operación\n",
    "    opcion = input(\"Selecciona una opción (1/2/3/4): \")\n",
    "\n",
    "    # Validar que la opción sea correcta\n",
    "    if opcion in ['1', '2', '3', '4']:\n",
    "        # Pedir al usuario que introduzca los dos números\n",
    "        num1 = float(input(\"Introduce el primer número: \"))\n",
    "        num2 = float(input(\"Introduce el segundo número: \"))\n",
    "\n",
    "        # Realizar la operación seleccionada\n",
    "        if opcion == '1':\n",
    "            print(f\"Resultado: {num1} + {num2} = {sumar(num1, num2)}\")\n",
    "        elif opcion == '2':\n",
    "            print(f\"Resultado: {num1} - {num2} = {restar(num1, num2)}\")\n",
    "        elif opcion == '3':\n",
    "            print(f\"Resultado: {num1} * {num2} = {multiplicar(num1, num2)}\")\n",
    "        elif opcion == '4':\n",
    "            print(f\"Resultado: {num1} / {num2} = {dividir(num1, num2)}\")\n",
    "    else:\n",
    "        print(\"Opción no válida. Por favor, selecciona una opción correcta.\")\n",
    "\n",
    "# Llamar a la función principal para iniciar la calculadora\n",
    "calculadora()\n"
   ]
  },
  {
   "cell_type": "code",
   "execution_count": null,
   "id": "1181fdb3-e2c6-4592-9c04-588254aa8bee",
   "metadata": {},
   "outputs": [],
   "source": []
  }
 ],
 "metadata": {
  "kernelspec": {
   "display_name": "Python 3 (ipykernel)",
   "language": "python",
   "name": "python3"
  },
  "language_info": {
   "codemirror_mode": {
    "name": "ipython",
    "version": 3
   },
   "file_extension": ".py",
   "mimetype": "text/x-python",
   "name": "python",
   "nbconvert_exporter": "python",
   "pygments_lexer": "ipython3",
   "version": "3.13.1"
  }
 },
 "nbformat": 4,
 "nbformat_minor": 5
}
