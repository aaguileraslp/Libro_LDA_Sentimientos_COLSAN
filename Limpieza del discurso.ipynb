{
 "cells": [
  {
   "cell_type": "code",
   "execution_count": 2,
   "id": "7a58fc2c-7c53-4628-a56f-754beba0b72e",
   "metadata": {},
   "outputs": [
    {
     "name": "stdout",
     "output_type": "stream",
     "text": [
      "El texto limpio se ha guardado como 'Fox_Limpio.txt'\n"
     ]
    }
   ],
   "source": [
    "import re\n",
    "from docx import Document\n",
    "\n",
    "# Cargar el archivo de discurso\n",
    "file_path = \"C:/Users/adega/Downloads/DiscursoPrueba.docx\"  # Actualice con la ruta de su archivo\n",
    "document = Document(file_path)\n",
    "\n",
    "# Leer el texto del documento\n",
    "raw_text = \" \".join([para.text for para in document.paragraphs])\n",
    "\n",
    "# Limpieza básica del texto\n",
    "def clean_text_basic(text):\n",
    "    text = re.sub(r\"Esta conversación a texto fue creada por.*\", \"\", text)  # Nota de transcripción\n",
    "    text = re.sub(r\"\\s+\", \" \", text)  # Espacios adicionales\n",
    "    return text.strip()\n",
    "\n",
    "cleaned_text = clean_text_basic(raw_text)\n",
    "\n",
    "# Guardar el texto limpio en un archivo\n",
    "with open(\"DiscursoPrueba_Limpio.txt\", \"w\", encoding=\"utf-8\") as file:\n",
    "    file.write(cleaned_text)\n",
    "\n",
    "print(\"El texto limpio se ha guardado como 'Fox_Limpio.txt'\")\n",
    "\n"
   ]
  },
  {
   "cell_type": "code",
   "execution_count": null,
   "id": "bc63ea54-4d65-4ccb-b873-16e092d03869",
   "metadata": {},
   "outputs": [],
   "source": []
  }
 ],
 "metadata": {
  "kernelspec": {
   "display_name": "Python 3 (ipykernel)",
   "language": "python",
   "name": "python3"
  },
  "language_info": {
   "codemirror_mode": {
    "name": "ipython",
    "version": 3
   },
   "file_extension": ".py",
   "mimetype": "text/x-python",
   "name": "python",
   "nbconvert_exporter": "python",
   "pygments_lexer": "ipython3",
   "version": "3.12.8"
  }
 },
 "nbformat": 4,
 "nbformat_minor": 5
}
