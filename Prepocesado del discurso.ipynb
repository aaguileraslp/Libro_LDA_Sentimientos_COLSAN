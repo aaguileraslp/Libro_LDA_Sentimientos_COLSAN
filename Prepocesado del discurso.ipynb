{
 "cells": [
  {
   "cell_type": "code",
   "execution_count": 5,
   "id": "f7bcf3bf-bd20-434e-832b-e4f352a94290",
   "metadata": {},
   "outputs": [
    {
     "name": "stderr",
     "output_type": "stream",
     "text": [
      "[nltk_data] Downloading package stopwords to\n",
      "[nltk_data]     C:\\Users\\adega\\AppData\\Roaming\\nltk_data...\n",
      "[nltk_data]   Package stopwords is already up-to-date!\n"
     ]
    },
    {
     "name": "stdout",
     "output_type": "stream",
     "text": [
      "El preprocesamiento ha finalizado. El texto procesado se ha guardado en 'Enrique_Peñanieto_Procesado.txt'.\n"
     ]
    }
   ],
   "source": [
    "import spacy\n",
    "import nltk\n",
    "nltk.download('stopwords')\n",
    "from nltk.corpus import stopwords\n",
    "\n",
    "# Cargar modelo de lenguaje en español\n",
    "nlp = spacy.load(\"es_core_news_sm\")\n",
    "\n",
    "\n",
    "# Lista de stop words personalizadas y comunes en español\n",
    "custom_stopwords = [\n",
    "    'ir', 'hacer', 'año', 'ser', 'decir', 'siento', 'millon', 'mil', 'ahora',\n",
    "    'mexicanos', 'y', 'el', 'hoy', 'aqui', 'méxico', 'él', 'dar', 'sólo', \n",
    "    'todo', 'deber', 'cada', 'de', 'la', 'en', 'un', 'que', 'a', 'los', \n",
    "    'las', 'con', 'se', 'para', 'por', 'no', 'su', 'este', 'es', 'lo', \n",
    "    'como', 'más', 'pero', 'al', 'del', 'mi', 'te', 'me', 'si', 'ya', 'dia', \n",
    "    'cuando', 'otra', 'vez', 'hay', 'estaba', 'también', 'así', 'mexicano','mismo',\n",
    "]\n",
    "\n",
    "# Stopwords en español\n",
    "stop_words = set(stopwords.words('spanish'))\n",
    "\n",
    "# Combinar stopwords personalizadas con las stopwords de NLTK\n",
    "stop_words.update(custom_stopwords)\n",
    "\n",
    "# Función para preprocesar el texto\n",
    "def preprocess_text(text):\n",
    "    # Procesar el texto con spaCy\n",
    "    doc = nlp(text)\n",
    "    # Tokenización, eliminación de stopwords y lematización\n",
    "    tokens = [token.lemma_ for token in doc if token.is_alpha and token.text.lower() not in stop_words]\n",
    "    return \" \".join(tokens)\n",
    "\n",
    "# Cargar el texto limpio desde un archivo\n",
    "with open(\"Enrique_Peñanieto_Limpio.txt\", \"r\", encoding=\"utf-8\") as file:\n",
    "    clean_text = file.read()\n",
    "\n",
    "# Aplicar el preprocesamiento\n",
    "preprocessed_text = preprocess_text(clean_text)\n",
    "\n",
    "# Guardar el texto preprocesado en un archivo\n",
    "with open(\"Enrique_Peñanieto_Procesado.txt\", \"w\", encoding=\"utf-8\") as file:\n",
    "    file.write(preprocessed_text)\n",
    "\n",
    "print(\"El preprocesamiento ha finalizado. El texto procesado se ha guardado en 'Enrique_Peñanieto_Procesado.txt'.\")"
   ]
  },
  {
   "cell_type": "code",
   "execution_count": null,
   "id": "3a34b3c9-617e-4443-8147-70962914963a",
   "metadata": {},
   "outputs": [],
   "source": []
  }
 ],
 "metadata": {
  "kernelspec": {
   "display_name": "Python 3 (ipykernel)",
   "language": "python",
   "name": "python3"
  },
  "language_info": {
   "codemirror_mode": {
    "name": "ipython",
    "version": 3
   },
   "file_extension": ".py",
   "mimetype": "text/x-python",
   "name": "python",
   "nbconvert_exporter": "python",
   "pygments_lexer": "ipython3",
   "version": "3.12.8"
  }
 },
 "nbformat": 4,
 "nbformat_minor": 5
}
